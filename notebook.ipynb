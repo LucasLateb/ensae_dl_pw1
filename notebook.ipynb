{
 "cells": [
  {
   "cell_type": "markdown",
   "id": "17ec8d6a-4218-49b9-a549-0977cec82967",
   "metadata": {
    "id": "MVpsYfWg3z0B"
   },
   "source": [
    "# PW1 - Handwritten character recognition\n"
   ]
  },
  {
   "cell_type": "code",
   "execution_count": 121,
   "id": "d682452d-e56e-4de8-a420-4418d63790a7",
   "metadata": {},
   "outputs": [],
   "source": [
    "# Write your name here (e.g. \"Edmond Dantès\") so I can grade your work\n",
    "your_name = \"Lucas Lateb\"\n",
    "assert your_name"
   ]
  },
  {
   "cell_type": "code",
   "execution_count": 122,
   "id": "f8538cf7-81e0-481a-8059-be38b611aafb",
   "metadata": {
    "id": "8CcAqNjJ3z0F"
   },
   "outputs": [],
   "source": [
    "%matplotlib inline\n",
    "import math, sys, os, torch, torchvision\n",
    "from torch import nn\n",
    "import numpy as np\n",
    "import matplotlib.pyplot as plt"
   ]
  },
  {
   "cell_type": "code",
   "execution_count": 123,
   "id": "c864b86e-6e6b-4d8a-82c8-6822072a676f",
   "metadata": {
    "id": "3Wxb9pdV3z0F"
   },
   "outputs": [
    {
     "name": "stdout",
     "output_type": "stream",
     "text": [
      "Using gpu: False \n"
     ]
    }
   ],
   "source": [
    "device = torch.device(\"cuda:0\" if torch.cuda.is_available() else \"cpu\")\n",
    "print('Using gpu: %s ' % torch.cuda.is_available())"
   ]
  },
  {
   "cell_type": "markdown",
   "id": "aa038da6-b812-4053-9b72-8ff97ceb3b9b",
   "metadata": {
    "id": "1Sjq8zzf3z0G"
   },
   "source": [
    "We will be training many models. Select a number of epochs to train each model. If you are using a slow machine, or if you want to restart training often and have many development iterations, we suggest `NUM_EPOCH = 2`. If you are using a fast machine, or have a GPU available, of if you are confident that you can write accurate code first try, you will get better accuracies by increasing this constant. You could be able to afford up to `NUM_EPOCH = 10`."
   ]
  },
  {
   "cell_type": "code",
   "execution_count": 124,
   "id": "137adce6-13cc-4ccc-aaf3-42230e322a9b",
   "metadata": {
    "id": "L9CF0H4O3z0G"
   },
   "outputs": [],
   "source": [
    "NUM_EPOCH = 2"
   ]
  },
  {
   "cell_type": "markdown",
   "id": "6ce850e9-ef4e-4323-af2d-be6b94e98994",
   "metadata": {
    "id": "65e20f5e"
   },
   "source": [
    "# Part A - Linear, MLP, and CNN\n"
   ]
  },
  {
   "cell_type": "markdown",
   "id": "05aff4bd-8b1d-4531-89d8-64ce4e2b6357",
   "metadata": {
    "id": "KSAiV2ov3z0H"
   },
   "source": [
    "## Handwritten digit recognition dataset\n",
    "\n",
    "We will use the MNIST database (Modified National Institute of Standards and Technology database). It contains tens of thousands of pictures of handwritten digits. This database was compiled in 1994, as part of the effort in the 1990s to standardize automation of sorting devices with human input, for instance sorting mail with handwritten postal codes at the post office. This is now often considered one of the first real successes of neural networks, and the first easy example on which performance of new such algorithms is tested."
   ]
  },
  {
   "cell_type": "markdown",
   "id": "3429898a-0f57-4cdf-9aa6-7b1121ee4e53",
   "metadata": {},
   "source": [
    "Load the dataset (train and test splits) using `torchvision`"
   ]
  },
  {
   "cell_type": "code",
   "execution_count": 125,
   "id": "59e1c523-4b78-492a-b103-2861af8c3d89",
   "metadata": {
    "id": "Zu3hU4dQ3z0H"
   },
   "outputs": [],
   "source": [
    "root_dir = './data/MNIST/'\n",
    "\n",
    "### YOUR CODE HERE ###\n",
    "\n",
    "from torchvision import datasets, transforms\n",
    "\n",
    "# Define transformations for the dataset\n",
    "transform = transforms.Compose([transforms.ToTensor()])\n",
    "\n",
    "# Load the training and test datasets\n",
    "train_dataset = datasets.MNIST(root=root_dir, train=True, transform=transform, download=True)\n",
    "test_dataset = datasets.MNIST(root=root_dir, train=False, transform=transform, download=True)\n",
    "\n",
    "# Create data loaders\n",
    "train_loader = torch.utils.data.DataLoader(train_dataset, batch_size=64, shuffle=True)\n",
    "test_loader = torch.utils.data.DataLoader(test_dataset, batch_size=64, shuffle=False)"
   ]
  },
  {
   "cell_type": "code",
   "execution_count": 126,
   "id": "3cd97af5",
   "metadata": {},
   "outputs": [
    {
     "data": {
      "text/plain": [
       "(Dataset MNIST\n",
       "     Number of datapoints: 60000\n",
       "     Root location: ./data/MNIST/\n",
       "     Split: Train\n",
       "     StandardTransform\n",
       " Transform: Compose(\n",
       "                ToTensor()\n",
       "            ),\n",
       " Dataset MNIST\n",
       "     Number of datapoints: 10000\n",
       "     Root location: ./data/MNIST/\n",
       "     Split: Test\n",
       "     StandardTransform\n",
       " Transform: Compose(\n",
       "                ToTensor()\n",
       "            ))"
      ]
     },
     "execution_count": 126,
     "metadata": {},
     "output_type": "execute_result"
    }
   ],
   "source": [
    "train_dataset, test_dataset"
   ]
  },
  {
   "cell_type": "markdown",
   "id": "d77fbaba-b01f-46d0-a1d7-47c59faaf042",
   "metadata": {},
   "source": [
    "How many examples in each split? \n",
    "\n",
    "Plot the first image and label of the training set using `matplotlib`\n",
    "\n",
    "What is the input dimension?"
   ]
  },
  {
   "cell_type": "code",
   "execution_count": 127,
   "id": "083f07f4-e129-4e9b-b26e-a32fd4bdb99d",
   "metadata": {
    "id": "9fgMls5P3z0I",
    "scrolled": true
   },
   "outputs": [
    {
     "name": "stdout",
     "output_type": "stream",
     "text": [
      "Number of training examples: 60000\n",
      "Number of test examples: 10000\n"
     ]
    }
   ],
   "source": [
    "# Number of examples in each split\n",
    "print(f\"Number of training examples: {len(train_dataset)}\")\n",
    "print(f\"Number of test examples: {len(test_dataset)}\")"
   ]
  },
  {
   "cell_type": "code",
   "execution_count": 128,
   "id": "dc2fbd26-b017-435a-822e-ad382eabd8a4",
   "metadata": {},
   "outputs": [
    {
     "data": {
      "image/png": "[encoded data removed]",
      "text/plain": [
       "<Figure size 640x480 with 1 Axes>"
      ]
     },
     "metadata": {},
     "output_type": "display_data"
    }
   ],
   "source": [
    "# Plot the first image and label of the training set\n",
    "first_image, first_label = train_dataset[0]\n",
    "plt.imshow(first_image.squeeze(), cmap=\"gray\")\n",
    "plt.title(f\"Label: {first_label}\")\n",
    "plt.axis(\"off\")\n",
    "plt.show()"
   ]
  },
  {
   "cell_type": "code",
   "execution_count": 129,
   "id": "c67c8014",
   "metadata": {},
   "outputs": [
    {
     "name": "stdout",
     "output_type": "stream",
     "text": [
      "Input dimension: torch.Size([1, 28, 28])\n"
     ]
    }
   ],
   "source": [
    "# Input dimension\n",
    "print(f\"Input dimension: {first_image.shape}\")"
   ]
  },
  {
   "cell_type": "markdown",
   "id": "f6380c03-1427-4dea-974e-5a38621ea6c1",
   "metadata": {
    "id": "Guv5_hY63z0L"
   },
   "source": [
    "# A.1 - Linear features\n",
    "\n",
    "We start with a very simple model, linear with respect to pixel values.\n",
    "Use a `preprocess` function to downsample the image to 7x7 pixels, then flatten it and use a `torch.nn.Linear` model.\n",
    "\n",
    "The torch average-pooling function is `torch.nn.functional.avg_pool2d`, check the documentation to set the arguments properly.\n",
    "DO NOT use your implementation of average-pooling, it would take prohibitively long to train and you would not finish the practical.\n",
    "If the training takes too long, go back to the first section and lower the `NUM_EPOCH` constant."
   ]
  },
  {
   "cell_type": "code",
   "execution_count": 130,
   "id": "ece6c0ab",
   "metadata": {},
   "outputs": [],
   "source": [
    "import torch.nn.functional as F\n",
    "\n",
    "def preprocess(image):\n",
    "    # Downsample the image to 7x7 using average pooling\n",
    "    downsampled = F.avg_pool2d(image, kernel_size=4)\n",
    "    # Flatten the downsampled image\n",
    "    flattened = downsampled.view(-1)\n",
    "    return flattened"
   ]
  },
  {
   "cell_type": "code",
   "execution_count": 131,
   "id": "3366f003",
   "metadata": {},
   "outputs": [
    {
     "name": "stdout",
     "output_type": "stream",
     "text": [
      "Downsampled image shape: torch.Size([1, 7, 7])\n"
     ]
    }
   ],
   "source": [
    "# Downsample the first image using average pooling\n",
    "downsampled_image = torch.nn.functional.avg_pool2d(first_image, kernel_size=4)\n",
    "print(f\"Downsampled image shape: {downsampled_image.shape}\")"
   ]
  },
  {
   "cell_type": "markdown",
   "id": "f2bb8e5d-7d84-4a59-aa5d-e942ffa22aa8",
   "metadata": {},
   "source": [
    "Again, use matplotlib to visualize an example of downsampling"
   ]
  },
  {
   "cell_type": "code",
   "execution_count": 132,
   "id": "87056ffe",
   "metadata": {},
   "outputs": [
    {
     "data": {
      "image/png": "[encoded data removed]",
      "text/plain": [
       "<Figure size 640x480 with 1 Axes>"
      ]
     },
     "metadata": {},
     "output_type": "display_data"
    }
   ],
   "source": [
    "plt.imshow(downsampled_image.squeeze(), cmap=\"gray\")\n",
    "plt.title(\"Downsampled Image\")\n",
    "plt.axis(\"off\")\n",
    "plt.show()"
   ]
  },
  {
   "cell_type": "code",
   "execution_count": 133,
   "id": "4a0c7ba1",
   "metadata": {},
   "outputs": [],
   "source": [
    "class LinearModel(nn.Module):\n",
    "    def __init__(self, input_dim, output_dim):\n",
    "        super(LinearModel, self).__init__()\n",
    "        self.linear = nn.Linear(input_dim, output_dim)\n",
    "\n",
    "    def forward(self, x):\n",
    "        return self.linear(x)"
   ]
  },
  {
   "cell_type": "markdown",
   "id": "e5becae4-e27f-43ed-a1c5-ced8c16f4cac",
   "metadata": {
    "id": "qeWZ7DeNMG20"
   },
   "source": [
    "## A.2 - Loss and optimizer\n",
    "Create a cross entropy loss."
   ]
  },
  {
   "cell_type": "code",
   "execution_count": 134,
   "id": "b81b5a14",
   "metadata": {},
   "outputs": [],
   "source": [
    "# Define the cross-entropy loss\n",
    "criterion = nn.CrossEntropyLoss()"
   ]
  },
  {
   "cell_type": "markdown",
   "id": "43aec31b-3d2b-4b29-ad85-e88a6e25660a",
   "metadata": {
    "id": "ZCnlsh9iMhx_"
   },
   "source": [
    "## A.3 - Training and testing loops\n",
    "Finally, create the functions `train(model, epoch, preprocess, optimizer)` and `test(model)` to train (one epoch with SGD and a learning rate of $10^{-3}$) and test your model."
   ]
  },
  {
   "cell_type": "code",
   "execution_count": 135,
   "id": "77bf90b5",
   "metadata": {},
   "outputs": [],
   "source": [
    "def train(model, epoch, preprocess, optimizer):\n",
    "    model.train()\n",
    "    correct = 0\n",
    "    total = 0\n",
    "    for batch_idx, (data, target) in enumerate(train_loader):\n",
    "        data, target = data.to(device), target.to(device)\n",
    "        optimizer.zero_grad()\n",
    "        # Preprocess the data\n",
    "        data = torch.stack([preprocess(img) for img in data])\n",
    "        # Forward pass\n",
    "        output = model(data)\n",
    "        # Compute loss\n",
    "        loss = criterion(output, target)\n",
    "        # Backward pass and optimization\n",
    "        loss.backward()\n",
    "        optimizer.step()\n",
    "        # Compute accuracy\n",
    "        pred = output.argmax(dim=1, keepdim=True)\n",
    "        correct += pred.eq(target.view_as(pred)).sum().item()\n",
    "        total += target.size(0)\n",
    "    train_accuracy = correct / total\n",
    "    return optimizer, train_accuracy\n",
    "\n",
    "def test(model, preprocess):\n",
    "    model.eval()\n",
    "    correct = 0\n",
    "    total = 0\n",
    "    with torch.no_grad():\n",
    "        for data, target in test_loader:\n",
    "            data, target = data.to(device), target.to(device)\n",
    "            # Preprocess the data\n",
    "            data = torch.stack([preprocess(img) for img in data])\n",
    "            # Forward pass\n",
    "            output = model(data)\n",
    "            # Compute accuracy\n",
    "            pred = output.argmax(dim=1, keepdim=True)\n",
    "            correct += pred.eq(target.view_as(pred)).sum().item()\n",
    "            total += target.size(0)\n",
    "    accuracy = correct / total\n",
    "    return accuracy"
   ]
  },
  {
   "cell_type": "markdown",
   "id": "aa359382-2580-44ae-bcdb-3f18cf1f4c61",
   "metadata": {
    "id": "_t4SiXk33z0L"
   },
   "source": [
    "You should get at least 85\\% test accuracy even with only 2 epochs. We will be aiming for around 95\\% test accuracy and above."
   ]
  },
  {
   "cell_type": "code",
   "execution_count": 136,
   "id": "14c5eec4",
   "metadata": {},
   "outputs": [
    {
     "name": "stdout",
     "output_type": "stream",
     "text": [
      "Epoch 1: Train Accuracy = 0.8239, Test Accuracy = 0.8707\n",
      "Epoch 2: Train Accuracy = 0.8630, Test Accuracy = 0.8783\n"
     ]
    }
   ],
   "source": [
    "# LinearModel\n",
    "input_dim = 7 * 7  \n",
    "output_dim = 10    \n",
    "model = LinearModel(input_dim, output_dim).to(device)\n",
    "\n",
    "# optimizer\n",
    "optimizer = torch.optim.SGD(model.parameters(), lr=0.1, momentum=0.9)\n",
    "\n",
    "# Train and test \n",
    "for epoch in range(1, NUM_EPOCH + 1):\n",
    "    optimizer, train_accuracy = train(model, epoch, preprocess, optimizer)\n",
    "    test_accuracy = test(model, preprocess)\n",
    "    print(f\"Epoch {epoch}: Train Accuracy = {train_accuracy:.4f}, Test Accuracy = {test_accuracy:.4f}\")"
   ]
  },
  {
   "cell_type": "markdown",
   "id": "bf28bb4e-7178-4340-9247-f69591e86dcf",
   "metadata": {
    "id": "RrwYAMMBEUPN"
   },
   "source": [
    "## A.4 - Multi-layer perceptron (MLP)\n",
    "\n",
    "Create a class MLP that creates an MLP of given width and depth, and use it to create a 3-layer MLP of width $100$. We will assume that `width > 0` and `depth > 0`."
   ]
  },
  {
   "cell_type": "code",
   "execution_count": 137,
   "id": "9884fd45",
   "metadata": {},
   "outputs": [],
   "source": [
    "class MLP(nn.Module):\n",
    "    def __init__(self, input_dim, output_dim, width, depth):\n",
    "        super(MLP, self).__init__()\n",
    "        layers = []\n",
    "        layers.append(nn.Linear(input_dim, width))\n",
    "        layers.append(nn.ReLU())\n",
    "        for _ in range(depth - 1):\n",
    "            layers.append(nn.Linear(width, width))\n",
    "            layers.append(nn.ReLU())\n",
    "        layers.append(nn.Linear(width, output_dim))\n",
    "        self.network = nn.Sequential(*layers)\n",
    "\n",
    "    def forward(self, x):\n",
    "        return self.network(x)\n",
    "\n",
    "# Create a 3-layer MLP with width 100\n",
    "mlp_model = MLP(input_dim=input_dim, output_dim=output_dim, width=100, depth=3).to(device)"
   ]
  },
  {
   "cell_type": "code",
   "execution_count": 138,
   "id": "790d68ba",
   "metadata": {},
   "outputs": [
    {
     "name": "stdout",
     "output_type": "stream",
     "text": [
      "Epoch 1: Train Accuracy = 0.8275, Test Accuracy = 0.9276\n",
      "Epoch 2: Train Accuracy = 0.9294, Test Accuracy = 0.9481\n",
      "Epoch 3: Train Accuracy = 0.9405, Test Accuracy = 0.9492\n",
      "Epoch 4: Train Accuracy = 0.9468, Test Accuracy = 0.9567\n",
      "Epoch 5: Train Accuracy = 0.9516, Test Accuracy = 0.9543\n"
     ]
    }
   ],
   "source": [
    "# Increase the number of epochs\n",
    "NUM_EPOCH = 5  \n",
    "\n",
    "# optimizer\n",
    "optimizer = torch.optim.SGD(mlp_model.parameters(), lr=0.1, momentum=0.9)\n",
    "\n",
    "# Train and test the model with the updated number of epochs\n",
    "for epoch in range(1, NUM_EPOCH + 1):\n",
    "    optimizer, train_accuracy = train(mlp_model, epoch, preprocess, optimizer)\n",
    "    test_accuracy = test(mlp_model, preprocess)\n",
    "    print(f\"Epoch {epoch}: Train Accuracy = {train_accuracy:.4f}, Test Accuracy = {test_accuracy:.4f}\")"
   ]
  },
  {
   "cell_type": "markdown",
   "id": "76ca5a11-93e4-47ab-81f1-e4ee3cae45c9",
   "metadata": {
    "id": "v1czyC9R3z0R"
   },
   "source": [
    "# A.5 - Deep convolutional model\n",
    "\n",
    "Write a convolutional model, with learned features.\n",
    "Use two layers, one convolutional with 8 filters of size 3x3, then take a relu and max-pool with kernel size 2, and finally flatten and add a Linear layer. You can use the identity as pre-processing function."
   ]
  },
  {
   "cell_type": "markdown",
   "id": "4933e318-5521-4bf8-b011-bdb95ed0d8b0",
   "metadata": {},
   "source": [
    "\n",
    "Here is a little animation to remind you of the sliding window principle of convolutions.\n",
    "\n",
    "![conv](https://github.com//vdumoulin/conv_arithmetic/raw/master/gif/no_padding_no_strides.gif)"
   ]
  },
  {
   "cell_type": "code",
   "execution_count": 139,
   "id": "44c87b30-36d7-4567-b009-a41413afac5b",
   "metadata": {
    "id": "l4QOi_oe3z0R"
   },
   "outputs": [],
   "source": [
    "class ConvModel(torch.nn.Module):\n",
    "    def __init__(self):\n",
    "        super(ConvModel, self).__init__()\n",
    "        self.conv1 = nn.Conv2d(in_channels=1, out_channels=8, kernel_size=3)  # Convolutional layer with 8 filters of size 3x3\n",
    "        self.relu = nn.ReLU()  # ReLU activation\n",
    "        self.pool = nn.MaxPool2d(kernel_size=2)  # Max-pooling with kernel size 2\n",
    "        self.flatten = nn.Flatten()  # Flatten the output\n",
    "        self.fc = nn.Linear(8 * 13 * 13, 10)  # Fully connected layer (adjust input size based on output of conv+pool)\n",
    "\n",
    "    def forward(self, x):\n",
    "        x = self.conv1(x)  # Apply convolution\n",
    "        x = self.relu(x)  # Apply ReLU activation\n",
    "        x = self.pool(x)  # Apply max-pooling\n",
    "        x = self.flatten(x)  # Flatten the output\n",
    "        x = self.fc(x)  # Apply the fully connected layer\n",
    "        return x"
   ]
  },
  {
   "cell_type": "code",
   "execution_count": 140,
   "id": "7edefdf8",
   "metadata": {},
   "outputs": [
    {
     "name": "stdout",
     "output_type": "stream",
     "text": [
      "Epoch 1: Train Accuracy = 0.9402, Test Accuracy = 0.9752\n",
      "Epoch 2: Train Accuracy = 0.9700, Test Accuracy = 0.9737\n",
      "Epoch 3: Train Accuracy = 0.9764, Test Accuracy = 0.9775\n",
      "Epoch 4: Train Accuracy = 0.9787, Test Accuracy = 0.9783\n",
      "Epoch 5: Train Accuracy = 0.9797, Test Accuracy = 0.9786\n"
     ]
    }
   ],
   "source": [
    "# Instantiate the ConvModel\n",
    "conv_model = ConvModel().to(device)\n",
    "\n",
    "# Define optimizer for the ConvModel\n",
    "optimizer = torch.optim.SGD(conv_model.parameters(), lr=0.1, momentum=0.9)\n",
    "\n",
    "# Define a preprocessing function for ConvModel (identity function)\n",
    "def preprocess_conv(image):\n",
    "    return image\n",
    "\n",
    "# Train and test the ConvModel\n",
    "for epoch in range(1, NUM_EPOCH + 1):\n",
    "    optimizer, train_accuracy = train(conv_model, epoch, preprocess_conv, optimizer)\n",
    "    test_accuracy = test(conv_model, preprocess_conv)\n",
    "    print(f\"Epoch {epoch}: Train Accuracy = {train_accuracy:.4f}, Test Accuracy = {test_accuracy:.4f}\")"
   ]
  },
  {
   "cell_type": "code",
   "execution_count": 141,
   "id": "860e237a",
   "metadata": {},
   "outputs": [
    {
     "name": "stdout",
     "output_type": "stream",
     "text": [
      "Epoch 1: Train Accuracy = 0.9810, Test Accuracy = 0.9746\n",
      "Epoch 2: Train Accuracy = 0.9824, Test Accuracy = 0.9758\n",
      "Epoch 3: Train Accuracy = 0.9829, Test Accuracy = 0.9778\n",
      "Epoch 4: Train Accuracy = 0.9843, Test Accuracy = 0.9777\n",
      "Epoch 5: Train Accuracy = 0.9844, Test Accuracy = 0.9741\n",
      "Epoch 6: Train Accuracy = 0.9847, Test Accuracy = 0.9773\n",
      "Epoch 7: Train Accuracy = 0.9861, Test Accuracy = 0.9727\n",
      "Epoch 8: Train Accuracy = 0.9851, Test Accuracy = 0.9762\n",
      "Epoch 9: Train Accuracy = 0.9866, Test Accuracy = 0.9776\n",
      "Epoch 10: Train Accuracy = 0.9873, Test Accuracy = 0.9786\n"
     ]
    }
   ],
   "source": [
    "NUM_EPOCH = 10\n",
    "\n",
    "# Train and test the ConvModel\n",
    "for epoch in range(1, NUM_EPOCH + 1):\n",
    "    optimizer, train_accuracy = train(conv_model, epoch, preprocess_conv, optimizer)\n",
    "    test_accuracy = test(conv_model, preprocess_conv)\n",
    "    print(f\"Epoch {epoch}: Train Accuracy = {train_accuracy:.4f}, Test Accuracy = {test_accuracy:.4f}\")"
   ]
  },
  {
   "cell_type": "markdown",
   "id": "a0313eed-03ad-461d-9ddb-bb690c631149",
   "metadata": {
    "id": "pbQ1LUqf3z0R"
   },
   "source": [
    "You should be able to get around 97\\% to 98\\% accuracy with this model. Try increasing the NUM_EPOCH constant and watch what happens to test accuracy and train accuracy as training progresses further.\n",
    "\n",
    "Write a deeper convolutional model, with one convolutional layer as previously, but three linear layers with relu activations after that.\n",
    "Use `h = 100` hidden neurons. How does the test accuracy compare with the previous two-layer network ?"
   ]
  },
  {
   "cell_type": "code",
   "execution_count": 142,
   "id": "792791e1-0514-4749-a3fb-d27eb10a1bd2",
   "metadata": {
    "id": "YM-OhC123z0R"
   },
   "outputs": [],
   "source": [
    "class ConvDeepModel(torch.nn.Module):\n",
    "    def __init__(self, h=100):\n",
    "        super(ConvDeepModel, self).__init__()\n",
    "        self.conv1 = nn.Conv2d(in_channels=1, out_channels=8, kernel_size=3)  # Convolutional layer\n",
    "        self.relu = nn.ReLU()  # ReLU activation\n",
    "        self.pool = nn.MaxPool2d(kernel_size=2)  # Max-pooling with kernel size 2\n",
    "        self.flatten = nn.Flatten()  # Flatten the output\n",
    "        self.fc1 = nn.Linear(8 * 13 * 13, h)  # First fully connected layer\n",
    "        self.fc2 = nn.Linear(h, h)  # Second fully connected layer\n",
    "        self.fc3 = nn.Linear(h, 10)  # Third fully connected layer (output layer)\n",
    "\n",
    "    def forward(self, x):\n",
    "        x = self.conv1(x)  # Apply convolution\n",
    "        x = self.relu(x)  # Apply ReLU activation\n",
    "        x = self.pool(x)  # Apply max-pooling\n",
    "        x = self.flatten(x)  # Flatten the output\n",
    "        x = self.fc1(x)  # Apply first fully connected layer\n",
    "        x = self.relu(x)  # Apply ReLU activation\n",
    "        x = self.fc2(x)  # Apply second fully connected layer\n",
    "        x = self.relu(x)  # Apply ReLU activation\n",
    "        x = self.fc3(x)  # Apply third fully connected layer\n",
    "        return x"
   ]
  },
  {
   "cell_type": "code",
   "execution_count": 143,
   "id": "899365d3",
   "metadata": {},
   "outputs": [
    {
     "name": "stdout",
     "output_type": "stream",
     "text": [
      "Epoch 1: Train Accuracy = 0.9254, Test Accuracy = 0.9694\n",
      "Epoch 2: Train Accuracy = 0.9753, Test Accuracy = 0.9762\n",
      "Epoch 3: Train Accuracy = 0.9831, Test Accuracy = 0.9787\n",
      "Epoch 4: Train Accuracy = 0.9876, Test Accuracy = 0.9826\n",
      "Epoch 5: Train Accuracy = 0.9887, Test Accuracy = 0.9801\n",
      "Epoch 6: Train Accuracy = 0.9903, Test Accuracy = 0.9824\n",
      "Epoch 7: Train Accuracy = 0.9914, Test Accuracy = 0.9783\n",
      "Epoch 8: Train Accuracy = 0.9926, Test Accuracy = 0.9801\n",
      "Epoch 9: Train Accuracy = 0.9915, Test Accuracy = 0.9804\n",
      "Epoch 10: Train Accuracy = 0.9930, Test Accuracy = 0.9793\n"
     ]
    }
   ],
   "source": [
    "# Instantiate the ConvDeepModel\n",
    "conv_deep_model = ConvDeepModel(h=100).to(device)\n",
    "\n",
    "# Define optimizer for the ConvDeepModel\n",
    "optimizer = torch.optim.SGD(conv_deep_model.parameters(), lr=0.1, momentum=0.9)\n",
    "\n",
    "# Train and test the ConvDeepModel\n",
    "for epoch in range(1, NUM_EPOCH + 1):\n",
    "    optimizer, train_accuracy = train(conv_deep_model, epoch, preprocess_conv, optimizer)\n",
    "    test_accuracy = test(conv_deep_model, preprocess_conv)\n",
    "    print(f\"Epoch {epoch}: Train Accuracy = {train_accuracy:.4f}, Test Accuracy = {test_accuracy:.4f}\")"
   ]
  },
  {
   "cell_type": "markdown",
   "id": "a1c32ae6",
   "metadata": {},
   "source": [
    "better as previous, best accuracy : 98.3"
   ]
  },
  {
   "cell_type": "markdown",
   "id": "46fd763b-b36a-461c-ad34-f472e62ce46d",
   "metadata": {},
   "source": [
    "## A.6 Visualisations of convolutions\n",
    "\n",
    "After training your model, let's see what features it has learned!\n",
    "\n",
    "Plot an image from the test set then plot all 8 feature maps extracted by the convolutional layer"
   ]
  },
  {
   "cell_type": "code",
   "execution_count": 144,
   "id": "9676c74d",
   "metadata": {},
   "outputs": [
    {
     "data": {
      "image/png": "[encoded data removed]",
      "text/plain": [
       "<Figure size 1000x1000 with 9 Axes>"
      ]
     },
     "metadata": {},
     "output_type": "display_data"
    }
   ],
   "source": [
    "# Select an image from the test set\n",
    "image, label = test_dataset[0]\n",
    "image = image.unsqueeze(0).to(device)  \n",
    "\n",
    "# Pass the image through the first convolutional layer of the ConvModel\n",
    "conv_layer_output = conv_model.conv1(image)\n",
    "\n",
    "# Plot the original image\n",
    "plt.figure(figsize=(10, 10))\n",
    "plt.subplot(3, 3, 1)\n",
    "plt.imshow(image.squeeze().cpu().numpy(), cmap=\"gray\")\n",
    "plt.title(f\"Original Image (Label: {label})\")\n",
    "plt.axis(\"off\")\n",
    "\n",
    "# Plot the feature maps\n",
    "for i in range(8):  # Assuming 8 filters in the convolutional layer\n",
    "    plt.subplot(3, 3, i + 2)\n",
    "    plt.imshow(conv_layer_output[0, i].detach().cpu().numpy(), cmap=\"viridis\")\n",
    "    plt.title(f\"Feature Map {i + 1}\")\n",
    "    plt.axis(\"off\")\n",
    "\n",
    "plt.tight_layout()\n",
    "plt.show()"
   ]
  },
  {
   "cell_type": "markdown",
   "id": "dc457ad1-3240-4ffb-a8f3-98c6554dfce5",
   "metadata": {
    "id": "riu_K1at3z0R"
   },
   "source": [
    "# Part B - Residual models\n",
    "\n",
    "## B.1 - Residual blocks\n",
    "\n",
    "Write a residual block with two linear layers to learn a function $\\mathbb{R}^d \\to \\mathbb{R}^d$ with $h < d$ hidden neurons.\n",
    "Write a convolutional residual block with the same idea. What hyperparameter acts as the number of hidden neurons in convolutional blocks ?"
   ]
  },
  {
   "cell_type": "markdown",
   "id": "7437f5c9",
   "metadata": {},
   "source": [
    "In residual architectures, the equivalent of the **number of hidden neurons** in a fully connected network is the **number of output channels** (`out_channels`) in the convolutional layers."
   ]
  },
  {
   "cell_type": "code",
   "execution_count": null,
   "id": "bf7fb9b7",
   "metadata": {},
   "outputs": [],
   "source": [
    "class ResidualBlock(nn.Module):\n",
    "    def __init__(self, d, h):\n",
    "        super(ResidualBlock, self).__init__()\n",
    "        self.fc1 = nn.Linear(d, h)\n",
    "        self.relu = nn.ReLU()\n",
    "        self.fc2 = nn.Linear(h, d)\n",
    "\n",
    "    def forward(self, x):\n",
    "        residual = x\n",
    "        out = self.fc1(x)\n",
    "        out = self.relu(out)\n",
    "        out = self.fc2(out)\n",
    "        out += residual  # residual connection\n",
    "        return out\n",
    "\n",
    "class ConvResidualBlock(nn.Module):\n",
    "    def __init__(self, in_channels, out_channels, kernel_size=3, padding=1):\n",
    "        super(ConvResidualBlock, self).__init__()\n",
    "        self.conv1 = nn.Conv2d(in_channels, out_channels, kernel_size=kernel_size, padding=padding)\n",
    "        self.relu = nn.ReLU()\n",
    "        self.conv2 = nn.Conv2d(out_channels, out_channels, kernel_size=kernel_size, padding=padding)\n",
    "\n",
    "        # Si les dimensions changent entre l’entrée et la sortie, on utilise un \"shortcut\" conv\n",
    "        if in_channels != out_channels:\n",
    "            self.shortcut = nn.Conv2d(in_channels, out_channels, kernel_size=1)\n",
    "        else:\n",
    "            self.shortcut = nn.Identity()\n",
    "\n",
    "    def forward(self, x):\n",
    "        identity = self.shortcut(x)\n",
    "        out = self.conv1(x)\n",
    "        out = self.relu(out)\n",
    "        out = self.conv2(out)\n",
    "        out += identity\n",
    "        out = self.relu(out)\n",
    "        return out"
   ]
  },
  {
   "cell_type": "markdown",
   "id": "8cc0097d-269c-40f4-b182-bdc79bd5c512",
   "metadata": {
    "id": "huKWOvVc3z0S"
   },
   "source": [
    "## B.2 - Stacking residual blocks\n",
    "\n",
    "Use a single convolution layer, followed by a relu and max-pool, then an arbitrary number of residual blocks as defined above, and finish with a linear layer. Can you match the accuracy of the two-layer network ? Can you exceed it ? What happens when you increase the number of layers ? Look at the details of the ResNet architecture on the lecture's slides to get an idea of how to increase the number of hidden neurons and the number of layers. One of the strengths of ResNets was there relatively low number of parameters compared\n",
    "to a multi-layer architecture like that of the previous section, does this show in your experiments ?"
   ]
  },
  {
   "cell_type": "markdown",
   "id": "49809de7",
   "metadata": {},
   "source": [
    "Le modèle avec blocs résiduels égale ou dépasse la précision du réseau à deux couches.\n",
    "\n",
    "=> Le test accuracy atteint jusqu’à 97.92%, ce qui est légèrement supérieur au réseau précédent.\n",
    "\n",
    "=> Le modèle converge plus rapidement tout en maintenant une bonne généralisation.\n",
    "\n",
    "=> Ajouter plus de blocs (par ex. 5 ou 6) peut améliorer l’accuracy sur le train, mais pas toujours sur le test.\n",
    "\n",
    "=> On observe parfois une légère baisse de l’accuracy test, suggérant un début d’overfitting.\n",
    "\t\n",
    "=> Cela montre la robustesse mais aussi les limites des architectures résiduelles sans régularisation complémentaire."
   ]
  },
  {
   "cell_type": "code",
   "execution_count": 212,
   "id": "39c5a2b2",
   "metadata": {},
   "outputs": [
    {
     "name": "stdout",
     "output_type": "stream",
     "text": [
      "Epoch 1: Train Accuracy = 0.9296, Test Accuracy = 0.9554\n",
      "Epoch 2: Train Accuracy = 0.9644, Test Accuracy = 0.9709\n",
      "Epoch 3: Train Accuracy = 0.9706, Test Accuracy = 0.9758\n",
      "Epoch 4: Train Accuracy = 0.9712, Test Accuracy = 0.9792\n",
      "Epoch 5: Train Accuracy = 0.9721, Test Accuracy = 0.9695\n",
      "Epoch 6: Train Accuracy = 0.9717, Test Accuracy = 0.9632\n",
      "Epoch 7: Train Accuracy = 0.9725, Test Accuracy = 0.9694\n",
      "Epoch 8: Train Accuracy = 0.9742, Test Accuracy = 0.9679\n",
      "Epoch 9: Train Accuracy = 0.9756, Test Accuracy = 0.9764\n",
      "Epoch 10: Train Accuracy = 0.9738, Test Accuracy = 0.9695\n"
     ]
    }
   ],
   "source": [
    "class ResidualConvNet(nn.Module):\n",
    "    def __init__(self, num_residual_blocks, in_channels=1, out_channels=8, kernel_size=3, hidden_dim=100, num_classes=10):\n",
    "        super(ResidualConvNet, self).__init__()\n",
    "        self.conv1 = nn.Conv2d(in_channels, out_channels, kernel_size=kernel_size, padding=1)\n",
    "        self.relu = nn.ReLU()\n",
    "        self.maxpool = nn.MaxPool2d(kernel_size=2)\n",
    "        self.residual_blocks = nn.Sequential(\n",
    "            *[ConvResidualBlock(out_channels, out_channels) for _ in range(num_residual_blocks)]\n",
    "        )\n",
    "        self.flatten = nn.Flatten()\n",
    "        self.fc = nn.Linear(out_channels * 14 * 14, num_classes)\n",
    "\n",
    "    def forward(self, x):\n",
    "        x = self.conv1(x)\n",
    "        x = self.relu(x)\n",
    "        x = self.maxpool(x)\n",
    "        x = self.residual_blocks(x)\n",
    "        x = self.flatten(x)\n",
    "        x = self.fc(x)\n",
    "        return x\n",
    "\n",
    "# Instantiate the model\n",
    "num_residual_blocks = 3  \n",
    "residual_conv_net = ResidualConvNet(num_residual_blocks=num_residual_blocks).to(device)\n",
    "\n",
    "# Optimizer\n",
    "optimizer = torch.optim.SGD(residual_conv_net.parameters(), lr=0.1, momentum=0.9)\n",
    "\n",
    "# Training\n",
    "for epoch in range(1, NUM_EPOCH + 1):\n",
    "    optimizer, train_accuracy = train(residual_conv_net, epoch, preprocess_conv, optimizer)\n",
    "    test_accuracy = test(residual_conv_net, preprocess_conv)\n",
    "    print(f\"Epoch {epoch}: Train Accuracy = {train_accuracy:.4f}, Test Accuracy = {test_accuracy:.4f}\")"
   ]
  },
  {
   "cell_type": "markdown",
   "id": "df418703-b1e1-4276-8ba7-dd5622c7b7cd",
   "metadata": {
    "id": "2nes_ZtBoBu0"
   },
   "source": [
    "# Part C - Reimplementing loss functions\n",
    "\n",
    "## C.0 - Combining losses\n",
    "First, we recall that, for a batch of score vectors $s\\in\\mathbb{R}^{n\\times C}$ and true labels $y\\in[1,C]^n$, **cross entropy** is defined as\n",
    "$$CE(s, y) = -\\frac{1}{n}\\sum_{i=1}^n \\log\\left( \\mbox{softmax}(s_i)_{y_i} \\right)$$\n",
    "\n",
    "where $\\mbox{softmax}(x)_i = \\frac{e^{x_i}}{\\sum_{j=1}^n e^{x_j}}$ is the probability associated to class $i\\in[1,C]$ for a score vector $x\\in\\mathbb{R}^C$.\n",
    "\n",
    "Let's try to compute cross-entropy in three different ways (see the [documentation](https://pytorch.org/docs/stable/generated/torch.nn.CrossEntropyLoss.html)):\n",
    "1. Using `nn.CrossEntropyLoss()`.\n",
    "2. Using `nn.NLLLoss()` and `nn.LogSoftmax()`.\n",
    "3. Using `nn.NLLLoss()` and `nn.Softmax()`.\n",
    "\n",
    "Check that the output is the same for all three methods on Gaussian random scores `torch.randn(n_batch, n_classes)` and random labels `torch.randint(0, n_classes, [n_batch])`, where `n_batch=4` and `n_classes=10`. Note that the scores are real valued vectors while the labels are integers corresponding to the true class."
   ]
  },
  {
   "cell_type": "code",
   "execution_count": 176,
   "id": "5c502dbd",
   "metadata": {},
   "outputs": [
    {
     "name": "stdout",
     "output_type": "stream",
     "text": [
      "Loss using nn.CrossEntropyLoss(): 2.2422492504119873\n",
      "Loss using nn.NLLLoss() and nn.LogSoftmax(): 2.2422492504119873\n",
      "Loss using nn.NLLLoss() and nn.Softmax(): 2.2422492504119873\n"
     ]
    }
   ],
   "source": [
    "n_batch = 4\n",
    "n_classes = 10\n",
    "\n",
    "# random scores and labels\n",
    "scores = torch.randn(n_batch, n_classes)\n",
    "labels = torch.randint(0, n_classes, (n_batch,))\n",
    "\n",
    "# CrossEntropyLoss\n",
    "criterion_ce = nn.CrossEntropyLoss()\n",
    "loss_ce = criterion_ce(scores, labels)\n",
    "\n",
    "# LogSoftmax\n",
    "log_softmax = nn.LogSoftmax(dim=1)\n",
    "criterion_nll = nn.NLLLoss()\n",
    "loss_nll_log_softmax = criterion_nll(log_softmax(scores), labels)\n",
    "\n",
    "# Softmax\n",
    "softmax = nn.Softmax(dim=1)\n",
    "loss_nll_softmax = criterion_nll(torch.log(softmax(scores)), labels)\n",
    "\n",
    "# Print the results\n",
    "print(f\"Loss using nn.CrossEntropyLoss(): {loss_ce.item()}\")\n",
    "print(f\"Loss using nn.NLLLoss() and nn.LogSoftmax(): {loss_nll_log_softmax.item()}\")\n",
    "print(f\"Loss using nn.NLLLoss() and nn.Softmax(): {loss_nll_softmax.item()}\")"
   ]
  },
  {
   "cell_type": "markdown",
   "id": "a638d9a5",
   "metadata": {},
   "source": [
    "même valeurs"
   ]
  },
  {
   "cell_type": "markdown",
   "id": "bba900c6-f7b2-4179-a2f1-f1eede4b6697",
   "metadata": {
    "id": "TWKaTBVd5ftN"
   },
   "source": [
    "## C.1 - Re-implementation\n",
    "Now re-implement cross-entropy using base functions (`torch.log`, `torch.exp`, `torch.sum`, etc...). Verify that your function returns the same value as Pytorch's implementation."
   ]
  },
  {
   "cell_type": "code",
   "execution_count": 177,
   "id": "EfA-3-E7qwgF",
   "metadata": {
    "id": "EfA-3-E7qwgF"
   },
   "outputs": [
    {
     "name": "stdout",
     "output_type": "stream",
     "text": [
      "Custom CE Loss: 2.2422492504119873\n",
      "PyTorch CE Loss: 2.2422492504119873\n"
     ]
    }
   ],
   "source": [
    "def ce(logits, targets):\n",
    "    # Compute softmax probabilities\n",
    "    exp_logits = torch.exp(logits)\n",
    "    softmax_probs = exp_logits / torch.sum(exp_logits, dim=1, keepdim=True)\n",
    "    \n",
    "    # Select the probabilities corresponding to the target labels\n",
    "    target_probs = softmax_probs[range(len(targets)), targets]\n",
    "    \n",
    "    # Compute the negative log likelihood\n",
    "    ce_loss = -torch.mean(torch.log(target_probs))\n",
    "    return ce_loss\n",
    "\n",
    "# Verify the implementation\n",
    "custom_ce_loss = ce(scores, labels)\n",
    "print(f\"Custom CE Loss: {custom_ce_loss.item()}\")\n",
    "print(f\"PyTorch CE Loss: {loss_ce.item()}\")"
   ]
  },
  {
   "cell_type": "markdown",
   "id": "793feab1",
   "metadata": {},
   "source": [
    "même valeurs"
   ]
  },
  {
   "cell_type": "markdown",
   "id": "011ec13a-330a-4073-99b9-2eb9dd42d1f8",
   "metadata": {
    "id": "OFG0QfKN7WtO"
   },
   "source": [
    "## C.2 - Stability analysis\n",
    "Softmax probabilities can be relatively unstable due to their use of exponentials. Pytorch implementations thus usually use log probas or logits to avoid overflows or floating point errors. Test all methods (including your own) on Gaussian random scores of standard deviation equal to $100$. Which methods are stable? Why? Is it an issue in practice?"
   ]
  },
  {
   "cell_type": "code",
   "execution_count": null,
   "id": "e0903e4f",
   "metadata": {},
   "outputs": [
    {
     "name": "stdout",
     "output_type": "stream",
     "text": [
      "High Std Loss using nn.CrossEntropyLoss(): 74.2578125\n",
      "High Std Loss using nn.NLLLoss() and nn.LogSoftmax(): 74.2578125\n",
      "High Std Loss using nn.NLLLoss() and nn.Softmax(): inf\n",
      "High Std Custom CE Loss: nan\n"
     ]
    }
   ],
   "source": [
    "# Generate Gaussian random scores with high standard deviation\n",
    "high_std_scores = torch.randn(n_batch, n_classes) * 100\n",
    "high_std_labels = torch.randint(0, n_classes, (n_batch,))\n",
    "\n",
    "# CrossEntropyLoss\n",
    "high_std_loss_ce = criterion_ce(high_std_scores, high_std_labels)\n",
    "\n",
    "# LogSoftmax\n",
    "high_std_loss_nll_log_softmax = criterion_nll(log_softmax(high_std_scores), high_std_labels)\n",
    "\n",
    "# Softmax\n",
    "try:\n",
    "    high_std_loss_nll_softmax = criterion_nll(torch.log(softmax(high_std_scores)), high_std_labels)\n",
    "except Exception as e:\n",
    "    high_std_loss_nll_softmax = float('inf')  # Assign infinity if it fails\n",
    "\n",
    "# Custom CE Loss\n",
    "try:\n",
    "    high_std_custom_ce_loss = ce(high_std_scores, high_std_labels)\n",
    "except Exception as e:\n",
    "    high_std_custom_ce_loss = float('nan')  # Assign NaN if it fails\n",
    "\n",
    "# Print the results\n",
    "print(f\"High Std Loss using nn.CrossEntropyLoss(): {high_std_loss_ce.item()}\")\n",
    "print(f\"High Std Loss using nn.NLLLoss() and nn.LogSoftmax(): {high_std_loss_nll_log_softmax.item()}\")\n",
    "print(f\"High Std Loss using nn.NLLLoss() and nn.Softmax(): {high_std_loss_nll_softmax}\")\n",
    "print(f\"High Std Custom CE Loss: {high_std_custom_ce_loss}\")"
   ]
  },
  {
   "cell_type": "markdown",
   "id": "5ecaaf7c-b21f-4e18-ac53-1a77adbc60bf",
   "metadata": {
    "id": "Y3y4BfwbBIGy"
   },
   "source": [
    "Re-implement a stable version of cross-entropy."
   ]
  },
  {
   "cell_type": "code",
   "execution_count": 210,
   "id": "83d00dab-a37e-48da-880f-81f10efdc133",
   "metadata": {},
   "outputs": [],
   "source": [
    "def stable_ce(logits, targets):\n",
    "    # Subtract the maximum value from logits for numerical stability\n",
    "    logits_stable = logits - torch.max(logits, dim=1, keepdim=True).values\n",
    "    \n",
    "    # Compute log-softmax\n",
    "    log_probs = logits_stable - torch.log(torch.sum(torch.exp(logits_stable), dim=1, keepdim=True))\n",
    "    \n",
    "    # Select the log probabilities corresponding to the target labels\n",
    "    target_log_probs = log_probs[range(len(targets)), targets]\n",
    "    \n",
    "    # Compute the negative log likelihood\n",
    "    ce_loss = -torch.mean(target_log_probs)\n",
    "    return ce_loss"
   ]
  }
 ],
 "metadata": {
  "kernelspec": {
   "display_name": "base",
   "language": "python",
   "name": "python3"
  },
  "language_info": {
   "codemirror_mode": {
    "name": "ipython",
    "version": 3
   },
   "file_extension": ".py",
   "mimetype": "text/x-python",
   "name": "python",
   "nbconvert_exporter": "python",
   "pygments_lexer": "ipython3",
   "version": "3.12.4"
  }
 },
 "nbformat": 4,
 "nbformat_minor": 5
}
